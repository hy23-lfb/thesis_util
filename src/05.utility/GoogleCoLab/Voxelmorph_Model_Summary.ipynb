{
  "nbformat": 4,
  "nbformat_minor": 0,
  "metadata": {
    "colab": {
      "name": "Voxelmorph_Model_Summary.ipynb",
      "provenance": []
    },
    "kernelspec": {
      "name": "python3",
      "display_name": "Python 3"
    },
    "language_info": {
      "name": "python"
    }
  },
  "cells": [
    {
      "cell_type": "code",
      "execution_count": 1,
      "metadata": {
        "colab": {
          "base_uri": "https://localhost:8080/"
        },
        "id": "3BIkzp3HJpQ4",
        "outputId": "6310d8e2-a968-40c8-bd88-138bf1599ea1"
      },
      "outputs": [
        {
          "output_type": "stream",
          "name": "stdout",
          "text": [
            "Looking in indexes: https://pypi.org/simple, https://us-python.pkg.dev/colab-wheels/public/simple/\n",
            "Collecting voxelmorph\n",
            "  Downloading voxelmorph-0.2-py3-none-any.whl (54 kB)\n",
            "\u001b[K     |████████████████████████████████| 54 kB 1.8 MB/s \n",
            "\u001b[?25hRequirement already satisfied: numpy in /usr/local/lib/python3.7/dist-packages (from voxelmorph) (1.21.6)\n",
            "Requirement already satisfied: scikit-image in /usr/local/lib/python3.7/dist-packages (from voxelmorph) (0.18.3)\n",
            "Collecting neurite>=0.2\n",
            "  Downloading neurite-0.2-py3-none-any.whl (108 kB)\n",
            "\u001b[K     |████████████████████████████████| 108 kB 6.2 MB/s \n",
            "\u001b[?25hRequirement already satisfied: nibabel in /usr/local/lib/python3.7/dist-packages (from voxelmorph) (3.0.2)\n",
            "Requirement already satisfied: h5py in /usr/local/lib/python3.7/dist-packages (from voxelmorph) (3.1.0)\n",
            "Requirement already satisfied: scipy in /usr/local/lib/python3.7/dist-packages (from voxelmorph) (1.7.3)\n",
            "Requirement already satisfied: packaging in /usr/local/lib/python3.7/dist-packages (from voxelmorph) (21.3)\n",
            "Requirement already satisfied: six in /usr/local/lib/python3.7/dist-packages (from neurite>=0.2->voxelmorph) (1.15.0)\n",
            "Collecting pystrum>=0.2\n",
            "  Downloading pystrum-0.2-py3-none-any.whl (19 kB)\n",
            "Requirement already satisfied: tqdm in /usr/local/lib/python3.7/dist-packages (from neurite>=0.2->voxelmorph) (4.64.0)\n",
            "Requirement already satisfied: matplotlib in /usr/local/lib/python3.7/dist-packages (from neurite>=0.2->voxelmorph) (3.2.2)\n",
            "Requirement already satisfied: scikit-learn in /usr/local/lib/python3.7/dist-packages (from neurite>=0.2->voxelmorph) (1.0.2)\n",
            "Requirement already satisfied: cached-property in /usr/local/lib/python3.7/dist-packages (from h5py->voxelmorph) (1.5.2)\n",
            "Requirement already satisfied: python-dateutil>=2.1 in /usr/local/lib/python3.7/dist-packages (from matplotlib->neurite>=0.2->voxelmorph) (2.8.2)\n",
            "Requirement already satisfied: pyparsing!=2.0.4,!=2.1.2,!=2.1.6,>=2.0.1 in /usr/local/lib/python3.7/dist-packages (from matplotlib->neurite>=0.2->voxelmorph) (3.0.9)\n",
            "Requirement already satisfied: kiwisolver>=1.0.1 in /usr/local/lib/python3.7/dist-packages (from matplotlib->neurite>=0.2->voxelmorph) (1.4.4)\n",
            "Requirement already satisfied: cycler>=0.10 in /usr/local/lib/python3.7/dist-packages (from matplotlib->neurite>=0.2->voxelmorph) (0.11.0)\n",
            "Requirement already satisfied: typing-extensions in /usr/local/lib/python3.7/dist-packages (from kiwisolver>=1.0.1->matplotlib->neurite>=0.2->voxelmorph) (4.1.1)\n",
            "Requirement already satisfied: tifffile>=2019.7.26 in /usr/local/lib/python3.7/dist-packages (from scikit-image->voxelmorph) (2021.11.2)\n",
            "Requirement already satisfied: pillow!=7.1.0,!=7.1.1,>=4.3.0 in /usr/local/lib/python3.7/dist-packages (from scikit-image->voxelmorph) (7.1.2)\n",
            "Requirement already satisfied: imageio>=2.3.0 in /usr/local/lib/python3.7/dist-packages (from scikit-image->voxelmorph) (2.9.0)\n",
            "Requirement already satisfied: PyWavelets>=1.1.1 in /usr/local/lib/python3.7/dist-packages (from scikit-image->voxelmorph) (1.3.0)\n",
            "Requirement already satisfied: networkx>=2.0 in /usr/local/lib/python3.7/dist-packages (from scikit-image->voxelmorph) (2.6.3)\n",
            "Requirement already satisfied: joblib>=0.11 in /usr/local/lib/python3.7/dist-packages (from scikit-learn->neurite>=0.2->voxelmorph) (1.1.0)\n",
            "Requirement already satisfied: threadpoolctl>=2.0.0 in /usr/local/lib/python3.7/dist-packages (from scikit-learn->neurite>=0.2->voxelmorph) (3.1.0)\n",
            "Installing collected packages: pystrum, neurite, voxelmorph\n",
            "Successfully installed neurite-0.2 pystrum-0.2 voxelmorph-0.2\n"
          ]
        }
      ],
      "source": [
        "import tensorflow as tf\n",
        "\n",
        "!pip install voxelmorph\n",
        "\n",
        "import voxelmorph as vxm\n",
        "import neurite as ne"
      ]
    },
    {
      "cell_type": "markdown",
      "source": [
        "# Data"
      ],
      "metadata": {
        "id": "7aIoY0DoJ6VM"
      }
    },
    {
      "cell_type": "code",
      "source": [
        "# our data will be of shape 160 x 192 x 224\n",
        "vol_shape = (160, 192, 224)\n",
        "nb_features = [\n",
        "    [32, 32, 32, 32, 32],\n",
        "    [32, 32, 32, 32, 32, 32, 16, 16]\n",
        "]\n",
        "# build vxm network\n",
        "vxm_model = vxm.networks.VxmDense(vol_shape, nb_features, int_steps=0);\n",
        "vxm_model.summary(line_length = 200)"
      ],
      "metadata": {
        "id": "bFcrEoscJxt-",
        "colab": {
          "base_uri": "https://localhost:8080/"
        },
        "outputId": "0c332d7f-0f49-44ef-d98f-ab8b2c3d41f7"
      },
      "execution_count": 7,
      "outputs": [
        {
          "output_type": "stream",
          "name": "stdout",
          "text": [
            "Model: \"vxm_dense\"\n",
            "________________________________________________________________________________________________________________________________________________________________________________________________________\n",
            " Layer (type)                                                     Output Shape                                Param #                 Connected to                                                      \n",
            "========================================================================================================================================================================================================\n",
            " vxm_dense_source_input (InputLayer)                              [(None, 160, 192, 224, 1)]                  0                       []                                                                \n",
            "                                                                                                                                                                                                        \n",
            " vxm_dense_target_input (InputLayer)                              [(None, 160, 192, 224, 1)]                  0                       []                                                                \n",
            "                                                                                                                                                                                                        \n",
            " vxm_dense_unet_input_concat (Concatenate)                        (None, 160, 192, 224, 2)                    0                       ['vxm_dense_source_input[0][0]',                                  \n",
            "                                                                                                                                       'vxm_dense_target_input[0][0]']                                  \n",
            "                                                                                                                                                                                                        \n",
            " vxm_dense_unet_enc_conv_0_0 (Conv3D)                             (None, 160, 192, 224, 32)                   1760                    ['vxm_dense_unet_input_concat[0][0]']                             \n",
            "                                                                                                                                                                                                        \n",
            " vxm_dense_unet_enc_conv_0_0_activation (LeakyReLU)               (None, 160, 192, 224, 32)                   0                       ['vxm_dense_unet_enc_conv_0_0[0][0]']                             \n",
            "                                                                                                                                                                                                        \n",
            " vxm_dense_unet_enc_pooling_0 (MaxPooling3D)                      (None, 80, 96, 112, 32)                     0                       ['vxm_dense_unet_enc_conv_0_0_activation[0][0]']                  \n",
            "                                                                                                                                                                                                        \n",
            " vxm_dense_unet_enc_conv_1_0 (Conv3D)                             (None, 80, 96, 112, 32)                     27680                   ['vxm_dense_unet_enc_pooling_0[0][0]']                            \n",
            "                                                                                                                                                                                                        \n",
            " vxm_dense_unet_enc_conv_1_0_activation (LeakyReLU)               (None, 80, 96, 112, 32)                     0                       ['vxm_dense_unet_enc_conv_1_0[0][0]']                             \n",
            "                                                                                                                                                                                                        \n",
            " vxm_dense_unet_enc_pooling_1 (MaxPooling3D)                      (None, 40, 48, 56, 32)                      0                       ['vxm_dense_unet_enc_conv_1_0_activation[0][0]']                  \n",
            "                                                                                                                                                                                                        \n",
            " vxm_dense_unet_enc_conv_2_0 (Conv3D)                             (None, 40, 48, 56, 32)                      27680                   ['vxm_dense_unet_enc_pooling_1[0][0]']                            \n",
            "                                                                                                                                                                                                        \n",
            " vxm_dense_unet_enc_conv_2_0_activation (LeakyReLU)               (None, 40, 48, 56, 32)                      0                       ['vxm_dense_unet_enc_conv_2_0[0][0]']                             \n",
            "                                                                                                                                                                                                        \n",
            " vxm_dense_unet_enc_pooling_2 (MaxPooling3D)                      (None, 20, 24, 28, 32)                      0                       ['vxm_dense_unet_enc_conv_2_0_activation[0][0]']                  \n",
            "                                                                                                                                                                                                        \n",
            " vxm_dense_unet_enc_conv_3_0 (Conv3D)                             (None, 20, 24, 28, 32)                      27680                   ['vxm_dense_unet_enc_pooling_2[0][0]']                            \n",
            "                                                                                                                                                                                                        \n",
            " vxm_dense_unet_enc_conv_3_0_activation (LeakyReLU)               (None, 20, 24, 28, 32)                      0                       ['vxm_dense_unet_enc_conv_3_0[0][0]']                             \n",
            "                                                                                                                                                                                                        \n",
            " vxm_dense_unet_enc_pooling_3 (MaxPooling3D)                      (None, 10, 12, 14, 32)                      0                       ['vxm_dense_unet_enc_conv_3_0_activation[0][0]']                  \n",
            "                                                                                                                                                                                                        \n",
            " vxm_dense_unet_enc_conv_4_0 (Conv3D)                             (None, 10, 12, 14, 32)                      27680                   ['vxm_dense_unet_enc_pooling_3[0][0]']                            \n",
            "                                                                                                                                                                                                        \n",
            " vxm_dense_unet_enc_conv_4_0_activation (LeakyReLU)               (None, 10, 12, 14, 32)                      0                       ['vxm_dense_unet_enc_conv_4_0[0][0]']                             \n",
            "                                                                                                                                                                                                        \n",
            " vxm_dense_unet_enc_pooling_4 (MaxPooling3D)                      (None, 5, 6, 7, 32)                         0                       ['vxm_dense_unet_enc_conv_4_0_activation[0][0]']                  \n",
            "                                                                                                                                                                                                        \n",
            " vxm_dense_unet_dec_conv_4_0 (Conv3D)                             (None, 5, 6, 7, 32)                         27680                   ['vxm_dense_unet_enc_pooling_4[0][0]']                            \n",
            "                                                                                                                                                                                                        \n",
            " vxm_dense_unet_dec_conv_4_0_activation (LeakyReLU)               (None, 5, 6, 7, 32)                         0                       ['vxm_dense_unet_dec_conv_4_0[0][0]']                             \n",
            "                                                                                                                                                                                                        \n",
            " vxm_dense_unet_dec_upsample_4 (UpSampling3D)                     (None, 10, 12, 14, 32)                      0                       ['vxm_dense_unet_dec_conv_4_0_activation[0][0]']                  \n",
            "                                                                                                                                                                                                        \n",
            " vxm_dense_unet_dec_upsample_4_concat (Concatenate)               (None, 10, 12, 14, 64)                      0                       ['vxm_dense_unet_dec_upsample_4[0][0]',                           \n",
            "                                                                                                                                       'vxm_dense_unet_enc_conv_4_0_activation[0][0]']                  \n",
            "                                                                                                                                                                                                        \n",
            " vxm_dense_unet_dec_conv_3_0 (Conv3D)                             (None, 10, 12, 14, 32)                      55328                   ['vxm_dense_unet_dec_upsample_4_concat[0][0]']                    \n",
            "                                                                                                                                                                                                        \n",
            " vxm_dense_unet_dec_conv_3_0_activation (LeakyReLU)               (None, 10, 12, 14, 32)                      0                       ['vxm_dense_unet_dec_conv_3_0[0][0]']                             \n",
            "                                                                                                                                                                                                        \n",
            " vxm_dense_unet_dec_upsample_3 (UpSampling3D)                     (None, 20, 24, 28, 32)                      0                       ['vxm_dense_unet_dec_conv_3_0_activation[0][0]']                  \n",
            "                                                                                                                                                                                                        \n",
            " vxm_dense_unet_dec_upsample_3_concat (Concatenate)               (None, 20, 24, 28, 64)                      0                       ['vxm_dense_unet_dec_upsample_3[0][0]',                           \n",
            "                                                                                                                                       'vxm_dense_unet_enc_conv_3_0_activation[0][0]']                  \n",
            "                                                                                                                                                                                                        \n",
            " vxm_dense_unet_dec_conv_2_0 (Conv3D)                             (None, 20, 24, 28, 32)                      55328                   ['vxm_dense_unet_dec_upsample_3_concat[0][0]']                    \n",
            "                                                                                                                                                                                                        \n",
            " vxm_dense_unet_dec_conv_2_0_activation (LeakyReLU)               (None, 20, 24, 28, 32)                      0                       ['vxm_dense_unet_dec_conv_2_0[0][0]']                             \n",
            "                                                                                                                                                                                                        \n",
            " vxm_dense_unet_dec_upsample_2 (UpSampling3D)                     (None, 40, 48, 56, 32)                      0                       ['vxm_dense_unet_dec_conv_2_0_activation[0][0]']                  \n",
            "                                                                                                                                                                                                        \n",
            " vxm_dense_unet_dec_upsample_2_concat (Concatenate)               (None, 40, 48, 56, 64)                      0                       ['vxm_dense_unet_dec_upsample_2[0][0]',                           \n",
            "                                                                                                                                       'vxm_dense_unet_enc_conv_2_0_activation[0][0]']                  \n",
            "                                                                                                                                                                                                        \n",
            " vxm_dense_unet_dec_conv_1_0 (Conv3D)                             (None, 40, 48, 56, 32)                      55328                   ['vxm_dense_unet_dec_upsample_2_concat[0][0]']                    \n",
            "                                                                                                                                                                                                        \n",
            " vxm_dense_unet_dec_conv_1_0_activation (LeakyReLU)               (None, 40, 48, 56, 32)                      0                       ['vxm_dense_unet_dec_conv_1_0[0][0]']                             \n",
            "                                                                                                                                                                                                        \n",
            " vxm_dense_unet_dec_upsample_1 (UpSampling3D)                     (None, 80, 96, 112, 32)                     0                       ['vxm_dense_unet_dec_conv_1_0_activation[0][0]']                  \n",
            "                                                                                                                                                                                                        \n",
            " vxm_dense_unet_dec_upsample_1_concat (Concatenate)               (None, 80, 96, 112, 64)                     0                       ['vxm_dense_unet_dec_upsample_1[0][0]',                           \n",
            "                                                                                                                                       'vxm_dense_unet_enc_conv_1_0_activation[0][0]']                  \n",
            "                                                                                                                                                                                                        \n",
            " vxm_dense_unet_dec_conv_0_0 (Conv3D)                             (None, 80, 96, 112, 32)                     55328                   ['vxm_dense_unet_dec_upsample_1_concat[0][0]']                    \n",
            "                                                                                                                                                                                                        \n",
            " vxm_dense_unet_dec_conv_0_0_activation (LeakyReLU)               (None, 80, 96, 112, 32)                     0                       ['vxm_dense_unet_dec_conv_0_0[0][0]']                             \n",
            "                                                                                                                                                                                                        \n",
            " vxm_dense_unet_dec_upsample_0 (UpSampling3D)                     (None, 160, 192, 224, 32)                   0                       ['vxm_dense_unet_dec_conv_0_0_activation[0][0]']                  \n",
            "                                                                                                                                                                                                        \n",
            " vxm_dense_unet_dec_upsample_0_concat (Concatenate)               (None, 160, 192, 224, 64)                   0                       ['vxm_dense_unet_dec_upsample_0[0][0]',                           \n",
            "                                                                                                                                       'vxm_dense_unet_enc_conv_0_0_activation[0][0]']                  \n",
            "                                                                                                                                                                                                        \n",
            " vxm_dense_unet_dec_final_conv_0 (Conv3D)                         (None, 160, 192, 224, 32)                   55328                   ['vxm_dense_unet_dec_upsample_0_concat[0][0]']                    \n",
            "                                                                                                                                                                                                        \n",
            " vxm_dense_unet_dec_final_conv_0_activation (LeakyReLU)           (None, 160, 192, 224, 32)                   0                       ['vxm_dense_unet_dec_final_conv_0[0][0]']                         \n",
            "                                                                                                                                                                                                        \n",
            " vxm_dense_unet_dec_final_conv_1 (Conv3D)                         (None, 160, 192, 224, 16)                   13840                   ['vxm_dense_unet_dec_final_conv_0_activation[0][0]']              \n",
            "                                                                                                                                                                                                        \n",
            " vxm_dense_unet_dec_final_conv_1_activation (LeakyReLU)           (None, 160, 192, 224, 16)                   0                       ['vxm_dense_unet_dec_final_conv_1[0][0]']                         \n",
            "                                                                                                                                                                                                        \n",
            " vxm_dense_unet_dec_final_conv_2 (Conv3D)                         (None, 160, 192, 224, 16)                   6928                    ['vxm_dense_unet_dec_final_conv_1_activation[0][0]']              \n",
            "                                                                                                                                                                                                        \n",
            " vxm_dense_unet_dec_final_conv_2_activation (LeakyReLU)           (None, 160, 192, 224, 16)                   0                       ['vxm_dense_unet_dec_final_conv_2[0][0]']                         \n",
            "                                                                                                                                                                                                        \n",
            " vxm_dense_flow (Conv3D)                                          (None, 160, 192, 224, 3)                    1299                    ['vxm_dense_unet_dec_final_conv_2_activation[0][0]']              \n",
            "                                                                                                                                                                                                        \n",
            " vxm_dense_transformer (SpatialTransformer)                       (None, 160, 192, 224, 1)                    0                       ['vxm_dense_source_input[0][0]',                                  \n",
            "                                                                                                                                       'vxm_dense_flow[0][0]']                                          \n",
            "                                                                                                                                                                                                        \n",
            "========================================================================================================================================================================================================\n",
            "Total params: 438,867\n",
            "Trainable params: 438,867\n",
            "Non-trainable params: 0\n",
            "________________________________________________________________________________________________________________________________________________________________________________________________________\n"
          ]
        }
      ]
    },
    {
      "cell_type": "code",
      "source": [
        "vxm_model.inputs"
      ],
      "metadata": {
        "colab": {
          "base_uri": "https://localhost:8080/"
        },
        "id": "PyRC_w3JSqjX",
        "outputId": "c10d7a44-442e-4e54-b621-fb30b66b9edc"
      },
      "execution_count": null,
      "outputs": [
        {
          "output_type": "execute_result",
          "data": {
            "text/plain": [
              "[<KerasTensor: shape=(None, 160, 192, 224, 1) dtype=float32 (created by layer 'vxm_dense_source_input')>,\n",
              " <KerasTensor: shape=(None, 160, 192, 224, 1) dtype=float32 (created by layer 'vxm_dense_target_input')>]"
            ]
          },
          "metadata": {},
          "execution_count": 23
        }
      ]
    },
    {
      "cell_type": "code",
      "source": [
        "vxm_model.outputs"
      ],
      "metadata": {
        "colab": {
          "base_uri": "https://localhost:8080/"
        },
        "id": "Y9uyN_56Sz-E",
        "outputId": "7c2efd66-c650-49ae-9829-df021f0ecf62"
      },
      "execution_count": null,
      "outputs": [
        {
          "output_type": "execute_result",
          "data": {
            "text/plain": [
              "[<KerasTensor: shape=(None, 160, 192, 224, 1) dtype=float32 (created by layer 'vxm_dense_transformer')>,\n",
              " <KerasTensor: shape=(None, 160, 192, 224, 3) dtype=float32 (created by layer 'vxm_dense_flow')>]"
            ]
          },
          "metadata": {},
          "execution_count": 24
        }
      ]
    }
  ]
}